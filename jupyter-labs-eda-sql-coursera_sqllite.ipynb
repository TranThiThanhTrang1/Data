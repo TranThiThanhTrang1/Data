{
 "cells": [
  {
   "cell_type": "markdown",
   "id": "89bd2879-a8c6-47b4-9a5c-ddd27cf08851",
   "metadata": {},
   "source": [
    "<p style=\"text-align:center\">\n",
    "    <a href=\"https://skills.network\" target=\"_blank\">\n",
    "    <img src=\"https://cf-courses-data.s3.us.cloud-object-storage.appdomain.cloud/assets/logos/SN_web_lightmode.png\" width=\"200\" alt=\"Skills Network Logo\">\n",
    "    </a>\n",
    "</p>\n",
    "\n",
    "<h1 align=center><font size = 5>Assignment: SQL Notebook for Peer Assignment</font></h1>\n",
    "\n",
    "Estimated time needed: **60** minutes.\n",
    "\n",
    "## Introduction\n",
    "Using this Python notebook you will:\n",
    "\n",
    "1.  Understand the Spacex DataSet\n",
    "2.  Load the dataset  into the corresponding table in a Db2 database\n",
    "3.  Execute SQL queries to answer assignment questions \n"
   ]
  },
  {
   "cell_type": "markdown",
   "id": "94d6d800-d057-4d5e-9cfe-3d050ebebbd3",
   "metadata": {},
   "source": [
    "## Overview of the DataSet\n",
    "\n",
    "SpaceX has gained worldwide attention for a series of historic milestones. \n",
    "\n",
    "It is the only private company ever to return a spacecraft from low-earth orbit, which it first accomplished in December 2010.\n",
    "SpaceX advertises Falcon 9 rocket launches on its website with a cost of 62 million dollars wheras other providers cost upward of 165 million dollars each, much of the savings is because Space X can reuse the first stage. \n",
    "\n",
    "\n",
    "Therefore if we can determine if the first stage will land, we can determine the cost of a launch. \n",
    "\n",
    "This information can be used if an alternate company wants to bid against SpaceX for a rocket launch.\n",
    "\n",
    "This dataset includes a record for each payload carried during a SpaceX mission into outer space.\n"
   ]
  },
  {
   "cell_type": "markdown",
   "id": "3fae4565-fca0-404a-bfdd-fb5c7b875377",
   "metadata": {},
   "source": [
    "### Download the datasets\n",
    "\n",
    "This assignment requires you to load the spacex dataset.\n",
    "\n",
    "In many cases the dataset to be analyzed is available as a .CSV (comma separated values) file, perhaps on the internet. Click on the link below to download and save the dataset (.CSV file):\n",
    "\n",
    " <a href=\"https://cf-courses-data.s3.us.cloud-object-storage.appdomain.cloud/IBM-DS0321EN-SkillsNetwork/labs/module_2/data/Spacex.csv\" target=\"_blank\">Spacex DataSet</a>\n",
    "\n"
   ]
  },
  {
   "cell_type": "code",
   "execution_count": 1,
   "id": "a4d7d307-8843-402a-9964-e7103b77aae3",
   "metadata": {},
   "outputs": [
    {
     "name": "stdout",
     "output_type": "stream",
     "text": [
      "Defaulting to user installation because normal site-packages is not writeable\n",
      "Collecting sqlalchemy==1.3.9\n",
      "  Downloading SQLAlchemy-1.3.9.tar.gz (6.0 MB)\n",
      "     ---------------------------------------- 0.0/6.0 MB ? eta -:--:--\n",
      "     - -------------------------------------- 0.3/6.0 MB ? eta -:--:--\n",
      "     ------- -------------------------------- 1.0/6.0 MB 3.9 MB/s eta 0:00:02\n",
      "     -------------- ------------------------- 2.1/6.0 MB 4.2 MB/s eta 0:00:01\n",
      "     --------------------- ------------------ 3.1/6.0 MB 4.3 MB/s eta 0:00:01\n",
      "     -------------------------- ------------- 3.9/6.0 MB 4.3 MB/s eta 0:00:01\n",
      "     --------------------------------- ------ 5.0/6.0 MB 4.4 MB/s eta 0:00:01\n",
      "     ---------------------------------------- 6.0/6.0 MB 4.5 MB/s eta 0:00:00\n",
      "  Installing build dependencies: started\n",
      "  Installing build dependencies: finished with status 'done'\n",
      "  Getting requirements to build wheel: started\n",
      "  Getting requirements to build wheel: finished with status 'done'\n",
      "  Preparing metadata (pyproject.toml): started\n",
      "  Preparing metadata (pyproject.toml): finished with status 'done'\n",
      "Building wheels for collected packages: sqlalchemy\n",
      "  Building wheel for sqlalchemy (pyproject.toml): started\n",
      "  Building wheel for sqlalchemy (pyproject.toml): finished with status 'done'\n",
      "  Created wheel for sqlalchemy: filename=SQLAlchemy-1.3.9-cp312-cp312-win_amd64.whl size=1142949 sha256=838881318f7eb78abfb841a3bf9c4a68149ed34d7498eb8920d2ba3827f01747\n",
      "  Stored in directory: c:\\users\\admin\\appdata\\local\\pip\\cache\\wheels\\b3\\1c\\42\\0e26b8d512adc6bce10ff71a05229366b4ccec641cd3b42111\n",
      "Successfully built sqlalchemy\n",
      "Installing collected packages: sqlalchemy\n",
      "Successfully installed sqlalchemy-1.3.9\n"
     ]
    }
   ],
   "source": [
    "!pip install sqlalchemy==1.3.9\n"
   ]
  },
  {
   "cell_type": "markdown",
   "id": "03fa3071-0727-447f-8076-788d56c426af",
   "metadata": {},
   "source": [
    "### Connect to the database\n",
    "\n",
    "Let us first load the SQL extension and establish a connection with the database\n"
   ]
  },
  {
   "cell_type": "code",
   "execution_count": 2,
   "id": "c385650c-98a7-4bd9-a003-3b9ced43dec9",
   "metadata": {},
   "outputs": [
    {
     "name": "stdout",
     "output_type": "stream",
     "text": [
      "Defaulting to user installation because normal site-packages is not writeable\n",
      "Collecting ipython-sql\n",
      "  Downloading ipython_sql-0.5.0-py3-none-any.whl.metadata (17 kB)\n",
      "Collecting prettytable (from ipython-sql)\n",
      "  Downloading prettytable-3.12.0-py3-none-any.whl.metadata (30 kB)\n",
      "Requirement already satisfied: ipython in c:\\users\\admin\\appdata\\roaming\\python\\python312\\site-packages (from ipython-sql) (8.25.0)\n",
      "Collecting sqlalchemy>=2.0 (from ipython-sql)\n",
      "  Downloading SQLAlchemy-2.0.36-cp312-cp312-win_amd64.whl.metadata (9.9 kB)\n",
      "Collecting sqlparse (from ipython-sql)\n",
      "  Downloading sqlparse-0.5.1-py3-none-any.whl.metadata (3.9 kB)\n",
      "Requirement already satisfied: six in c:\\users\\admin\\appdata\\roaming\\python\\python312\\site-packages (from ipython-sql) (1.16.0)\n",
      "Collecting ipython-genutils (from ipython-sql)\n",
      "  Downloading ipython_genutils-0.2.0-py2.py3-none-any.whl.metadata (755 bytes)\n",
      "Requirement already satisfied: typing-extensions>=4.6.0 in c:\\users\\admin\\appdata\\roaming\\python\\python312\\site-packages (from sqlalchemy>=2.0->ipython-sql) (4.12.2)\n",
      "Collecting greenlet!=0.4.17 (from sqlalchemy>=2.0->ipython-sql)\n",
      "  Downloading greenlet-3.1.1-cp312-cp312-win_amd64.whl.metadata (3.9 kB)\n",
      "Requirement already satisfied: decorator in c:\\users\\admin\\appdata\\roaming\\python\\python312\\site-packages (from ipython->ipython-sql) (5.1.1)\n",
      "Requirement already satisfied: jedi>=0.16 in c:\\users\\admin\\appdata\\roaming\\python\\python312\\site-packages (from ipython->ipython-sql) (0.19.1)\n",
      "Requirement already satisfied: matplotlib-inline in c:\\users\\admin\\appdata\\roaming\\python\\python312\\site-packages (from ipython->ipython-sql) (0.1.7)\n",
      "Requirement already satisfied: prompt-toolkit<3.1.0,>=3.0.41 in c:\\users\\admin\\appdata\\roaming\\python\\python312\\site-packages (from ipython->ipython-sql) (3.0.45)\n",
      "Requirement already satisfied: pygments>=2.4.0 in c:\\users\\admin\\appdata\\roaming\\python\\python312\\site-packages (from ipython->ipython-sql) (2.18.0)\n",
      "Requirement already satisfied: stack-data in c:\\users\\admin\\appdata\\roaming\\python\\python312\\site-packages (from ipython->ipython-sql) (0.6.3)\n",
      "Requirement already satisfied: traitlets>=5.13.0 in c:\\users\\admin\\appdata\\roaming\\python\\python312\\site-packages (from ipython->ipython-sql) (5.14.3)\n",
      "Requirement already satisfied: colorama in c:\\users\\admin\\appdata\\roaming\\python\\python312\\site-packages (from ipython->ipython-sql) (0.4.6)\n",
      "Requirement already satisfied: wcwidth in c:\\users\\admin\\appdata\\roaming\\python\\python312\\site-packages (from prettytable->ipython-sql) (0.2.13)\n",
      "Requirement already satisfied: parso<0.9.0,>=0.8.3 in c:\\users\\admin\\appdata\\roaming\\python\\python312\\site-packages (from jedi>=0.16->ipython->ipython-sql) (0.8.4)\n",
      "Requirement already satisfied: executing>=1.2.0 in c:\\users\\admin\\appdata\\roaming\\python\\python312\\site-packages (from stack-data->ipython->ipython-sql) (2.0.1)\n",
      "Requirement already satisfied: asttokens>=2.1.0 in c:\\users\\admin\\appdata\\roaming\\python\\python312\\site-packages (from stack-data->ipython->ipython-sql) (2.4.1)\n",
      "Requirement already satisfied: pure-eval in c:\\users\\admin\\appdata\\roaming\\python\\python312\\site-packages (from stack-data->ipython->ipython-sql) (0.2.2)\n",
      "Downloading ipython_sql-0.5.0-py3-none-any.whl (20 kB)\n",
      "Downloading SQLAlchemy-2.0.36-cp312-cp312-win_amd64.whl (2.1 MB)\n",
      "   ---------------------------------------- 0.0/2.1 MB ? eta -:--:--\n",
      "   --------------- ------------------------ 0.8/2.1 MB 4.8 MB/s eta 0:00:01\n",
      "   -------------------- ------------------- 1.0/2.1 MB 5.0 MB/s eta 0:00:01\n",
      "   ---------------------------------------- 2.1/2.1 MB 4.0 MB/s eta 0:00:00\n",
      "Downloading ipython_genutils-0.2.0-py2.py3-none-any.whl (26 kB)\n",
      "Downloading prettytable-3.12.0-py3-none-any.whl (31 kB)\n",
      "Downloading sqlparse-0.5.1-py3-none-any.whl (44 kB)\n",
      "Downloading greenlet-3.1.1-cp312-cp312-win_amd64.whl (299 kB)\n",
      "Installing collected packages: ipython-genutils, sqlparse, prettytable, greenlet, sqlalchemy, ipython-sql\n",
      "  Attempting uninstall: sqlalchemy\n",
      "    Found existing installation: SQLAlchemy 1.3.9\n",
      "    Uninstalling SQLAlchemy-1.3.9:\n",
      "      Successfully uninstalled SQLAlchemy-1.3.9\n",
      "Successfully installed greenlet-3.1.1 ipython-genutils-0.2.0 ipython-sql-0.5.0 prettytable-3.12.0 sqlalchemy-2.0.36 sqlparse-0.5.1\n",
      "Defaulting to user installation because normal site-packages is not writeable\n",
      "Requirement already satisfied: ipython-sql in c:\\users\\admin\\appdata\\roaming\\python\\python312\\site-packages (0.5.0)\n",
      "Requirement already satisfied: prettytable in c:\\users\\admin\\appdata\\roaming\\python\\python312\\site-packages (3.12.0)\n",
      "Requirement already satisfied: ipython in c:\\users\\admin\\appdata\\roaming\\python\\python312\\site-packages (from ipython-sql) (8.25.0)\n",
      "Requirement already satisfied: sqlalchemy>=2.0 in c:\\users\\admin\\appdata\\roaming\\python\\python312\\site-packages (from ipython-sql) (2.0.36)\n",
      "Requirement already satisfied: sqlparse in c:\\users\\admin\\appdata\\roaming\\python\\python312\\site-packages (from ipython-sql) (0.5.1)\n",
      "Requirement already satisfied: six in c:\\users\\admin\\appdata\\roaming\\python\\python312\\site-packages (from ipython-sql) (1.16.0)\n",
      "Requirement already satisfied: ipython-genutils in c:\\users\\admin\\appdata\\roaming\\python\\python312\\site-packages (from ipython-sql) (0.2.0)\n",
      "Requirement already satisfied: wcwidth in c:\\users\\admin\\appdata\\roaming\\python\\python312\\site-packages (from prettytable) (0.2.13)\n",
      "Requirement already satisfied: typing-extensions>=4.6.0 in c:\\users\\admin\\appdata\\roaming\\python\\python312\\site-packages (from sqlalchemy>=2.0->ipython-sql) (4.12.2)\n",
      "Requirement already satisfied: greenlet!=0.4.17 in c:\\users\\admin\\appdata\\roaming\\python\\python312\\site-packages (from sqlalchemy>=2.0->ipython-sql) (3.1.1)\n",
      "Requirement already satisfied: decorator in c:\\users\\admin\\appdata\\roaming\\python\\python312\\site-packages (from ipython->ipython-sql) (5.1.1)\n",
      "Requirement already satisfied: jedi>=0.16 in c:\\users\\admin\\appdata\\roaming\\python\\python312\\site-packages (from ipython->ipython-sql) (0.19.1)\n",
      "Requirement already satisfied: matplotlib-inline in c:\\users\\admin\\appdata\\roaming\\python\\python312\\site-packages (from ipython->ipython-sql) (0.1.7)\n",
      "Requirement already satisfied: prompt-toolkit<3.1.0,>=3.0.41 in c:\\users\\admin\\appdata\\roaming\\python\\python312\\site-packages (from ipython->ipython-sql) (3.0.45)\n",
      "Requirement already satisfied: pygments>=2.4.0 in c:\\users\\admin\\appdata\\roaming\\python\\python312\\site-packages (from ipython->ipython-sql) (2.18.0)\n",
      "Requirement already satisfied: stack-data in c:\\users\\admin\\appdata\\roaming\\python\\python312\\site-packages (from ipython->ipython-sql) (0.6.3)\n",
      "Requirement already satisfied: traitlets>=5.13.0 in c:\\users\\admin\\appdata\\roaming\\python\\python312\\site-packages (from ipython->ipython-sql) (5.14.3)\n",
      "Requirement already satisfied: colorama in c:\\users\\admin\\appdata\\roaming\\python\\python312\\site-packages (from ipython->ipython-sql) (0.4.6)\n",
      "Requirement already satisfied: parso<0.9.0,>=0.8.3 in c:\\users\\admin\\appdata\\roaming\\python\\python312\\site-packages (from jedi>=0.16->ipython->ipython-sql) (0.8.4)\n",
      "Requirement already satisfied: executing>=1.2.0 in c:\\users\\admin\\appdata\\roaming\\python\\python312\\site-packages (from stack-data->ipython->ipython-sql) (2.0.1)\n",
      "Requirement already satisfied: asttokens>=2.1.0 in c:\\users\\admin\\appdata\\roaming\\python\\python312\\site-packages (from stack-data->ipython->ipython-sql) (2.4.1)\n",
      "Requirement already satisfied: pure-eval in c:\\users\\admin\\appdata\\roaming\\python\\python312\\site-packages (from stack-data->ipython->ipython-sql) (0.2.2)\n"
     ]
    }
   ],
   "source": [
    "!pip install ipython-sql\n",
    "!pip install ipython-sql prettytable"
   ]
  },
  {
   "cell_type": "code",
   "execution_count": 3,
   "id": "a0b74990-cc58-4adc-b89e-9a942b4851b6",
   "metadata": {},
   "outputs": [],
   "source": [
    "%load_ext sql"
   ]
  },
  {
   "cell_type": "code",
   "execution_count": 4,
   "id": "8029f1cc-2b5d-4996-bf18-167fa8cad4fd",
   "metadata": {},
   "outputs": [],
   "source": [
    "import csv, sqlite3\n",
    "import prettytable\n",
    "prettytable.DEFAULT = 'DEFAULT'\n",
    "\n",
    "con = sqlite3.connect(\"my_data1.db\")\n",
    "cur = con.cursor()"
   ]
  },
  {
   "cell_type": "code",
   "execution_count": 5,
   "id": "dc62f345-3a63-4efd-97a0-09f6c1f71e2a",
   "metadata": {},
   "outputs": [],
   "source": [
    "!pip install -q pandas"
   ]
  },
  {
   "cell_type": "code",
   "execution_count": 6,
   "id": "38faa6c1-4573-4ddd-bf97-0021260e66a1",
   "metadata": {},
   "outputs": [],
   "source": [
    "%sql sqlite:///my_data1.db"
   ]
  },
  {
   "cell_type": "code",
   "execution_count": 7,
   "id": "a7a5ce5d-3433-4a9f-9057-ed47998264b1",
   "metadata": {},
   "outputs": [
    {
     "data": {
      "text/plain": [
       "101"
      ]
     },
     "execution_count": 7,
     "metadata": {},
     "output_type": "execute_result"
    }
   ],
   "source": [
    "import pandas as pd\n",
    "df = pd.read_csv(\"https://cf-courses-data.s3.us.cloud-object-storage.appdomain.cloud/IBM-DS0321EN-SkillsNetwork/labs/module_2/data/Spacex.csv\")\n",
    "df.to_sql(\"SPACEXTBL\", con, if_exists='replace', index=False,method=\"multi\")"
   ]
  },
  {
   "cell_type": "markdown",
   "id": "528aa40a-4284-4d41-b0b6-dd4d8b309d57",
   "metadata": {},
   "source": [
    "**Note:This below code is added to remove blank rows from table**\n"
   ]
  },
  {
   "cell_type": "code",
   "execution_count": 19,
   "id": "85213691-a735-483e-805e-c9ad140a83f4",
   "metadata": {},
   "outputs": [
    {
     "name": "stdout",
     "output_type": "stream",
     "text": [
      " * sqlite:///my_data1.db\n",
      "Done.\n"
     ]
    },
    {
     "data": {
      "text/plain": [
       "[]"
      ]
     },
     "execution_count": 19,
     "metadata": {},
     "output_type": "execute_result"
    }
   ],
   "source": [
    "#DROP THE TABLE IF EXISTS\n",
    "\n",
    "%sql DROP TABLE IF EXISTS SPACEXTABLE;"
   ]
  },
  {
   "cell_type": "code",
   "execution_count": 20,
   "id": "8a2f7a9d-4f67-4016-905e-6716b93c2c08",
   "metadata": {},
   "outputs": [
    {
     "name": "stdout",
     "output_type": "stream",
     "text": [
      " * sqlite:///my_data1.db\n",
      "Done.\n"
     ]
    },
    {
     "data": {
      "text/plain": [
       "[]"
      ]
     },
     "execution_count": 20,
     "metadata": {},
     "output_type": "execute_result"
    }
   ],
   "source": [
    "%sql create table SPACEXTABLE as select * from SPACEXTBL where Date is not null"
   ]
  },
  {
   "cell_type": "markdown",
   "id": "6dde26fd-86f4-4b09-8ea2-6d56599cc423",
   "metadata": {},
   "source": [
    "## Tasks\n",
    "\n",
    "Now write and execute SQL queries to solve the assignment tasks.\n",
    "\n",
    "**Note: If the column names are in mixed case enclose it in double quotes\n",
    "   For Example \"Landing_Outcome\"**\n",
    "\n",
    "### Task 1\n",
    "\n",
    "\n",
    "\n",
    "\n",
    "##### Display the names of the unique launch sites  in the space mission\n"
   ]
  },
  {
   "cell_type": "code",
   "execution_count": 23,
   "id": "f3d2249d-9229-4d7c-8513-9cb737522237",
   "metadata": {},
   "outputs": [
    {
     "name": "stdout",
     "output_type": "stream",
     "text": [
      " * sqlite:///my_data1.db\n",
      "Done.\n"
     ]
    },
    {
     "data": {
      "text/html": [
       "<table>\n",
       "    <thead>\n",
       "        <tr>\n",
       "            <th>Launch_Site</th>\n",
       "        </tr>\n",
       "    </thead>\n",
       "    <tbody>\n",
       "        <tr>\n",
       "            <td>CCAFS LC-40</td>\n",
       "        </tr>\n",
       "        <tr>\n",
       "            <td>VAFB SLC-4E</td>\n",
       "        </tr>\n",
       "        <tr>\n",
       "            <td>KSC LC-39A</td>\n",
       "        </tr>\n",
       "        <tr>\n",
       "            <td>CCAFS SLC-40</td>\n",
       "        </tr>\n",
       "    </tbody>\n",
       "</table>"
      ],
      "text/plain": [
       "[('CCAFS LC-40',), ('VAFB SLC-4E',), ('KSC LC-39A',), ('CCAFS SLC-40',)]"
      ]
     },
     "execution_count": 23,
     "metadata": {},
     "output_type": "execute_result"
    }
   ],
   "source": [
    "%sql SELECT DISTINCT LAUNCH_SITE FROM SPACEXTBL;"
   ]
  },
  {
   "cell_type": "markdown",
   "id": "d121b4b9-da0e-4aab-ba95-1165a46fdc0b",
   "metadata": {},
   "source": [
    "\n",
    "### Task 2\n",
    "\n",
    "\n",
    "#####  Display 5 records where launch sites begin with the string 'CCA' \n"
   ]
  },
  {
   "cell_type": "code",
   "execution_count": 24,
   "id": "2bbe5094-bfc6-49ec-8fb9-07b37644dd04",
   "metadata": {},
   "outputs": [
    {
     "name": "stdout",
     "output_type": "stream",
     "text": [
      " * sqlite:///my_data1.db\n",
      "Done.\n"
     ]
    },
    {
     "data": {
      "text/html": [
       "<table>\n",
       "    <thead>\n",
       "        <tr>\n",
       "            <th>Date</th>\n",
       "            <th>Time (UTC)</th>\n",
       "            <th>Booster_Version</th>\n",
       "            <th>Launch_Site</th>\n",
       "            <th>Payload</th>\n",
       "            <th>PAYLOAD_MASS__KG_</th>\n",
       "            <th>Orbit</th>\n",
       "            <th>Customer</th>\n",
       "            <th>Mission_Outcome</th>\n",
       "            <th>Landing_Outcome</th>\n",
       "        </tr>\n",
       "    </thead>\n",
       "    <tbody>\n",
       "        <tr>\n",
       "            <td>2010-06-04</td>\n",
       "            <td>18:45:00</td>\n",
       "            <td>F9 v1.0  B0003</td>\n",
       "            <td>CCAFS LC-40</td>\n",
       "            <td>Dragon Spacecraft Qualification Unit</td>\n",
       "            <td>0</td>\n",
       "            <td>LEO</td>\n",
       "            <td>SpaceX</td>\n",
       "            <td>Success</td>\n",
       "            <td>Failure (parachute)</td>\n",
       "        </tr>\n",
       "        <tr>\n",
       "            <td>2010-12-08</td>\n",
       "            <td>15:43:00</td>\n",
       "            <td>F9 v1.0  B0004</td>\n",
       "            <td>CCAFS LC-40</td>\n",
       "            <td>Dragon demo flight C1, two CubeSats, barrel of Brouere cheese</td>\n",
       "            <td>0</td>\n",
       "            <td>LEO (ISS)</td>\n",
       "            <td>NASA (COTS) NRO</td>\n",
       "            <td>Success</td>\n",
       "            <td>Failure (parachute)</td>\n",
       "        </tr>\n",
       "        <tr>\n",
       "            <td>2012-05-22</td>\n",
       "            <td>7:44:00</td>\n",
       "            <td>F9 v1.0  B0005</td>\n",
       "            <td>CCAFS LC-40</td>\n",
       "            <td>Dragon demo flight C2</td>\n",
       "            <td>525</td>\n",
       "            <td>LEO (ISS)</td>\n",
       "            <td>NASA (COTS)</td>\n",
       "            <td>Success</td>\n",
       "            <td>No attempt</td>\n",
       "        </tr>\n",
       "        <tr>\n",
       "            <td>2012-10-08</td>\n",
       "            <td>0:35:00</td>\n",
       "            <td>F9 v1.0  B0006</td>\n",
       "            <td>CCAFS LC-40</td>\n",
       "            <td>SpaceX CRS-1</td>\n",
       "            <td>500</td>\n",
       "            <td>LEO (ISS)</td>\n",
       "            <td>NASA (CRS)</td>\n",
       "            <td>Success</td>\n",
       "            <td>No attempt</td>\n",
       "        </tr>\n",
       "        <tr>\n",
       "            <td>2013-03-01</td>\n",
       "            <td>15:10:00</td>\n",
       "            <td>F9 v1.0  B0007</td>\n",
       "            <td>CCAFS LC-40</td>\n",
       "            <td>SpaceX CRS-2</td>\n",
       "            <td>677</td>\n",
       "            <td>LEO (ISS)</td>\n",
       "            <td>NASA (CRS)</td>\n",
       "            <td>Success</td>\n",
       "            <td>No attempt</td>\n",
       "        </tr>\n",
       "    </tbody>\n",
       "</table>"
      ],
      "text/plain": [
       "[('2010-06-04', '18:45:00', 'F9 v1.0  B0003', 'CCAFS LC-40', 'Dragon Spacecraft Qualification Unit', 0, 'LEO', 'SpaceX', 'Success', 'Failure (parachute)'),\n",
       " ('2010-12-08', '15:43:00', 'F9 v1.0  B0004', 'CCAFS LC-40', 'Dragon demo flight C1, two CubeSats, barrel of Brouere cheese', 0, 'LEO (ISS)', 'NASA (COTS) NRO', 'Success', 'Failure (parachute)'),\n",
       " ('2012-05-22', '7:44:00', 'F9 v1.0  B0005', 'CCAFS LC-40', 'Dragon demo flight C2', 525, 'LEO (ISS)', 'NASA (COTS)', 'Success', 'No attempt'),\n",
       " ('2012-10-08', '0:35:00', 'F9 v1.0  B0006', 'CCAFS LC-40', 'SpaceX CRS-1', 500, 'LEO (ISS)', 'NASA (CRS)', 'Success', 'No attempt'),\n",
       " ('2013-03-01', '15:10:00', 'F9 v1.0  B0007', 'CCAFS LC-40', 'SpaceX CRS-2', 677, 'LEO (ISS)', 'NASA (CRS)', 'Success', 'No attempt')]"
      ]
     },
     "execution_count": 24,
     "metadata": {},
     "output_type": "execute_result"
    }
   ],
   "source": [
    "%sql SELECT * FROM SPACEXTBL WHERE LAUNCH_SITE LIKE 'CCA%' LIMIT 5;"
   ]
  },
  {
   "cell_type": "markdown",
   "id": "01a83baa-0a5d-4a3a-ba33-8447eb27ba95",
   "metadata": {},
   "source": [
    "### Task 3\n",
    "\n",
    "\n",
    "\n",
    "\n",
    "##### Display the total payload mass carried by boosters launched by NASA (CRS)\n"
   ]
  },
  {
   "cell_type": "code",
   "execution_count": 43,
   "id": "27e6bfbd-b73b-4ba3-8daa-df0ece26a8dd",
   "metadata": {},
   "outputs": [
    {
     "name": "stdout",
     "output_type": "stream",
     "text": [
      " * sqlite:///my_data1.db\n",
      "Done.\n",
      "+------------+------------+-----------------+--------------+---------------------------------------------------------------+-------------------+-------------+-----------------------------------------------------------+----------------------------------+------------------------+\n",
      "|    Date    | Time (UTC) | Booster_Version | Launch_Site  |                            Payload                            | PAYLOAD_MASS__KG_ |    Orbit    |                          Customer                         |         Mission_Outcome          |    Landing_Outcome     |\n",
      "+------------+------------+-----------------+--------------+---------------------------------------------------------------+-------------------+-------------+-----------------------------------------------------------+----------------------------------+------------------------+\n",
      "| 2010-06-04 |  18:45:00  |  F9 v1.0  B0003 | CCAFS LC-40  |              Dragon Spacecraft Qualification Unit             |         0         |     LEO     |                           SpaceX                          |             Success              |  Failure (parachute)   |\n",
      "| 2010-12-08 |  15:43:00  |  F9 v1.0  B0004 | CCAFS LC-40  | Dragon demo flight C1, two CubeSats, barrel of Brouere cheese |         0         |  LEO (ISS)  |                      NASA (COTS) NRO                      |             Success              |  Failure (parachute)   |\n",
      "| 2012-05-22 |  7:44:00   |  F9 v1.0  B0005 | CCAFS LC-40  |                     Dragon demo flight C2                     |        525        |  LEO (ISS)  |                        NASA (COTS)                        |             Success              |       No attempt       |\n",
      "| 2012-10-08 |  0:35:00   |  F9 v1.0  B0006 | CCAFS LC-40  |                          SpaceX CRS-1                         |        500        |  LEO (ISS)  |                         NASA (CRS)                        |             Success              |       No attempt       |\n",
      "| 2013-03-01 |  15:10:00  |  F9 v1.0  B0007 | CCAFS LC-40  |                          SpaceX CRS-2                         |        677        |  LEO (ISS)  |                         NASA (CRS)                        |             Success              |       No attempt       |\n",
      "| 2013-09-29 |  16:00:00  |  F9 v1.1  B1003 | VAFB SLC-4E  |                            CASSIOPE                           |        500        |  Polar LEO  |                            MDA                            |             Success              |  Uncontrolled (ocean)  |\n",
      "| 2013-12-03 |  22:41:00  |     F9 v1.1     | CCAFS LC-40  |                             SES-8                             |        3170       |     GTO     |                            SES                            |             Success              |       No attempt       |\n",
      "| 2014-01-06 |  22:06:00  |     F9 v1.1     | CCAFS LC-40  |                           Thaicom 6                           |        3325       |     GTO     |                          Thaicom                          |             Success              |       No attempt       |\n",
      "| 2014-04-18 |  19:25:00  |     F9 v1.1     | CCAFS LC-40  |                          SpaceX CRS-3                         |        2296       |  LEO (ISS)  |                         NASA (CRS)                        |             Success              |   Controlled (ocean)   |\n",
      "| 2014-07-14 |  15:15:00  |     F9 v1.1     | CCAFS LC-40  |            OG2 Mission 1  6 Orbcomm-OG2 satellites            |        1316       |     LEO     |                          Orbcomm                          |             Success              |   Controlled (ocean)   |\n",
      "| 2014-08-05 |  8:00:00   |     F9 v1.1     | CCAFS LC-40  |                           AsiaSat 8                           |        4535       |     GTO     |                          AsiaSat                          |             Success              |       No attempt       |\n",
      "| 2014-09-07 |  5:00:00   |  F9 v1.1 B1011  | CCAFS LC-40  |                           AsiaSat 6                           |        4428       |     GTO     |                          AsiaSat                          |             Success              |       No attempt       |\n",
      "| 2014-09-21 |  5:52:00   |  F9 v1.1 B1010  | CCAFS LC-40  |                          SpaceX CRS-4                         |        2216       |  LEO (ISS)  |                         NASA (CRS)                        |             Success              |  Uncontrolled (ocean)  |\n",
      "| 2015-01-10 |  9:47:00   |  F9 v1.1 B1012  | CCAFS LC-40  |                          SpaceX CRS-5                         |        2395       |  LEO (ISS)  |                         NASA (CRS)                        |             Success              |  Failure (drone ship)  |\n",
      "| 2015-02-11 |  23:03:00  |  F9 v1.1 B1013  | CCAFS LC-40  |                             DSCOVR                            |        570        |     HEO     |                  U.S. Air Force NASA NOAA                 |             Success              |   Controlled (ocean)   |\n",
      "| 2015-03-02 |  3:50:00   |  F9 v1.1 B1014  | CCAFS LC-40  |                   ABS-3A Eutelsat 115 West B                  |        4159       |     GTO     |                        ABS Eutelsat                       |             Success              |       No attempt       |\n",
      "| 2015-04-14 |  20:10:00  |  F9 v1.1 B1015  | CCAFS LC-40  |                          SpaceX CRS-6                         |        1898       |  LEO (ISS)  |                         NASA (CRS)                        |             Success              |  Failure (drone ship)  |\n",
      "| 2015-04-27 |  23:03:00  |  F9 v1.1 B1016  | CCAFS LC-40  |                     Turkmen 52 / MonacoSAT                    |        4707       |     GTO     |             Turkmenistan National Space Agency            |             Success              |       No attempt       |\n",
      "| 2015-06-28 |  14:21:00  |  F9 v1.1 B1018  | CCAFS LC-40  |                          SpaceX CRS-7                         |        1952       |  LEO (ISS)  |                         NASA (CRS)                        |       Failure (in flight)        | Precluded (drone ship) |\n",
      "| 2015-12-22 |  1:29:00   |   F9 FT B1019   | CCAFS LC-40  |            OG2 Mission 2  11 Orbcomm-OG2 satellites           |        2034       |     LEO     |                          Orbcomm                          |             Success              |  Success (ground pad)  |\n",
      "| 2016-01-17 |  18:42:00  |  F9 v1.1 B1017  | VAFB SLC-4E  |                            Jason-3                            |        553        |     LEO     |                    NASA (LSP) NOAA CNES                   |             Success              |  Failure (drone ship)  |\n",
      "| 2016-03-04 |  23:35:00  |   F9 FT B1020   | CCAFS LC-40  |                             SES-9                             |        5271       |     GTO     |                            SES                            |             Success              |  Failure (drone ship)  |\n",
      "| 2016-04-08 |  20:43:00  |  F9 FT B1021.1  | CCAFS LC-40  |                          SpaceX CRS-8                         |        3136       |  LEO (ISS)  |                         NASA (CRS)                        |             Success              |  Success (drone ship)  |\n",
      "| 2016-05-06 |  5:21:00   |   F9 FT B1022   | CCAFS LC-40  |                            JCSAT-14                           |        4696       |     GTO     |                   SKY Perfect JSAT Group                  |             Success              |  Success (drone ship)  |\n",
      "| 2016-05-27 |  21:39:00  |  F9 FT B1023.1  | CCAFS LC-40  |                           Thaicom 8                           |        3100       |     GTO     |                          Thaicom                          |             Success              |  Success (drone ship)  |\n",
      "| 2016-06-15 |  14:29:00  |   F9 FT B1024   | CCAFS LC-40  |                   ABS-2A Eutelsat 117 West B                  |        3600       |     GTO     |                        ABS Eutelsat                       |             Success              |  Failure (drone ship)  |\n",
      "| 2016-07-18 |  4:45:00   |  F9 FT B1025.1  | CCAFS LC-40  |                          SpaceX CRS-9                         |        2257       |  LEO (ISS)  |                         NASA (CRS)                        |             Success              |  Success (ground pad)  |\n",
      "| 2016-08-14 |  5:26:00   |   F9 FT B1026   | CCAFS LC-40  |                            JCSAT-16                           |        4600       |     GTO     |                   SKY Perfect JSAT Group                  |             Success              |  Success (drone ship)  |\n",
      "| 2017-01-14 |  17:54:00  |  F9 FT B1029.1  | VAFB SLC-4E  |                         Iridium NEXT 1                        |        9600       |  Polar LEO  |                   Iridium Communications                  |             Success              |  Success (drone ship)  |\n",
      "| 2017-02-19 |  14:39:00  |  F9 FT B1031.1  |  KSC LC-39A  |                         SpaceX CRS-10                         |        2490       |  LEO (ISS)  |                         NASA (CRS)                        |             Success              |  Success (ground pad)  |\n",
      "| 2017-03-16 |  6:00:00   |   F9 FT B1030   |  KSC LC-39A  |                          EchoStar 23                          |        5600       |     GTO     |                          EchoStar                         |             Success              |       No attempt       |\n",
      "| 2017-03-30 |  22:27:00  |  F9 FT  B1021.2 |  KSC LC-39A  |                             SES-10                            |        5300       |     GTO     |                            SES                            |             Success              |  Success (drone ship)  |\n",
      "| 2017-05-01 |  11:15:00  |  F9 FT B1032.1  |  KSC LC-39A  |                            NROL-76                            |        5300       |     LEO     |                            NRO                            |             Success              |  Success (ground pad)  |\n",
      "| 2017-05-15 |  23:21:00  |   F9 FT B1034   |  KSC LC-39A  |                         Inmarsat-5 F4                         |        6070       |     GTO     |                          Inmarsat                         |             Success              |       No attempt       |\n",
      "| 2017-06-03 |  21:07:00  |  F9 FT B1035.1  |  KSC LC-39A  |                         SpaceX CRS-11                         |        2708       |  LEO (ISS)  |                         NASA (CRS)                        |             Success              |  Success (ground pad)  |\n",
      "| 2017-06-23 |  19:10:00  |  F9 FT  B1029.2 |  KSC LC-39A  |                         BulgariaSat-1                         |        3669       |     GTO     |                         Bulsatcom                         |             Success              |  Success (drone ship)  |\n",
      "| 2017-06-25 |  20:25:00  |  F9 FT B1036.1  | VAFB SLC-4E  |                         Iridium NEXT 2                        |        9600       |     LEO     |                   Iridium Communications                  |             Success              |  Success (drone ship)  |\n",
      "| 2017-07-05 |  23:38:00  |   F9 FT B1037   |  KSC LC-39A  |                          Intelsat 35e                         |        6761       |     GTO     |                          Intelsat                         |             Success              |       No attempt       |\n",
      "| 2017-08-14 |  16:31:00  |  F9 B4 B1039.1  |  KSC LC-39A  |                         SpaceX CRS-12                         |        3310       |  LEO (ISS)  |                         NASA (CRS)                        |             Success              |  Success (ground pad)  |\n",
      "| 2017-08-24 |  18:51:00  |  F9 FT B1038.1  | VAFB SLC-4E  |                           Formosat-5                          |        475        |     SSO     |                            NSPO                           |             Success              |  Success (drone ship)  |\n",
      "| 2017-09-07 |  14:00:00  |  F9 B4 B1040.1  |  KSC LC-39A  |                       Boeing X-37B OTV-5                      |        4990       |     LEO     |                       U.S. Air Force                      |             Success              |  Success (ground pad)  |\n",
      "| 2017-10-09 |  12:37:00  |  F9 B4 B1041.1  | VAFB SLC-4E  |                         Iridium NEXT 3                        |        9600       |  Polar LEO  |                   Iridium Communications                  |             Success              |  Success (drone ship)  |\n",
      "| 2017-10-11 |  22:53:00  |  F9 FT  B1031.2 |  KSC LC-39A  |                     SES-11 / EchoStar 105                     |        5200       |     GTO     |                        SES EchoStar                       |             Success              |  Success (drone ship)  |\n",
      "| 2017-10-30 |  19:34:00  |  F9 B4 B1042.1  |  KSC LC-39A  |                          Koreasat 5A                          |        3500       |     GTO     |                       KT Corporation                      |             Success              |  Success (drone ship)  |\n",
      "| 2017-12-15 |  15:36:00  |  F9 FT  B1035.2 | CCAFS SLC-40 |                         SpaceX CRS-13                         |        2205       |  LEO (ISS)  |                         NASA (CRS)                        |             Success              |  Success (ground pad)  |\n",
      "| 2017-12-23 |  1:27:00   |  F9 FT  B1036.2 | VAFB SLC-4E  |                         Iridium NEXT 4                        |        9600       |  Polar LEO  |                   Iridium Communications                  |             Success              |   Controlled (ocean)   |\n",
      "| 2018-01-08 |  1:00:00   |  F9 B4 B1043.1  | CCAFS SLC-40 |                              Zuma                             |        5000       |     LEO     |                      Northrop Grumman                     | Success (payload status unclear) |  Success (ground pad)  |\n",
      "| 2018-01-31 |  21:25:00  |  F9 FT  B1032.2 | CCAFS SLC-40 |                       GovSat-1 / SES-16                       |        4230       |     GTO     |                            SES                            |             Success              |   Controlled (ocean)   |\n",
      "| 2018-02-22 |  14:17:00  |  F9 FT  B1038.2 | VAFB SLC-4E  |                       Paz  Tintin A & B                       |        2150       |     SSO     |                 Hisdesat exactEarth SpaceX                |             Success              |       No attempt       |\n",
      "| 2018-03-06 |  5:33:00   |   F9 B4 B1044   | CCAFS SLC-40 |                     Hispasat 30W-6  PODSat                    |        6092       |     GTO     |                    Hispasat  NovaWurks                    |             Success              |       No attempt       |\n",
      "| 2018-03-30 |  14:14:00  |  F9 B4  B1041.2 | VAFB SLC-4E  |                         Iridium NEXT 5                        |        9600       |  Polar LEO  |                   Iridium Communications                  |             Success              |       No attempt       |\n",
      "| 2018-04-02 |  20:30:00  |  F9 B4  B1039.2 | CCAFS SLC-40 |                         SpaceX CRS-14                         |        2647       |  LEO (ISS)  |                         NASA (CRS)                        |             Success              |       No attempt       |\n",
      "| 2018-04-18 |  22:51:00  |  F9 B4 B1045.1  | CCAFS SLC-40 |          Transiting Exoplanet Survey Satellite (TESS)         |        362        |     HEO     |                         NASA (LSP)                        |             Success              |  Success (drone ship)  |\n",
      "| 2018-05-11 |  20:14:00  |  F9 B5  B1046.1 |  KSC LC-39A  |                         Bangabandhu-1                         |        3600       |     GTO     |                     Thales-Alenia/BTRC                    |             Success              |  Success (drone ship)  |\n",
      "| 2018-05-22 |  19:47:58  |  F9 B4  B1043.2 | VAFB SLC-4E  |                 Iridium NEXT 6   GRACE-FO 1, 2                |        6460       |  Polar LEO  |             Iridium Communications GFZ ‚ NASA             |             Success              |       No attempt       |\n",
      "| 2018-06-04 |  4:45:00   |  F9 B4  B1040.2 | CCAFS SLC-40 |                             SES-12                            |        5384       |     GTO     |                            SES                            |             Success              |       No attempt       |\n",
      "| 2018-06-29 |  9:42:00   |  F9 B4 B1045.2  | CCAFS SLC-40 |                         SpaceX CRS-15                         |        2697       |  LEO (ISS)  |                         NASA (CRS)                        |             Success              |       No attempt       |\n",
      "| 2018-07-22 |  5:50:00   |   F9 B5B1047.1  | CCAFS SLC-40 |                          Telstar 19V                          |        7075       |     GTO     |                          Telesat                          |             Success              |        Success         |\n",
      "| 2018-07-25 |  11:39:00  |   F9 B5B1048.1  | VAFB SLC-4E  |                         Iridium NEXT-7                        |        9600       |  Polar LEO  |                   Iridium Communications                  |             Success              |        Success         |\n",
      "| 2018-08-07 |  5:18:00   |  F9 B5 B1046.2  | CCAFS SLC-40 |                          Merah Putih                          |        5800       |     GTO     |                      Telkom Indonesia                     |             Success              |        Success         |\n",
      "| 2018-09-10 |  4:45:00   |   F9 B5B1049.1  | CCAFS SLC-40 |                    Telstar 18V / Apstar-5C                    |        7060       |     GTO     |                          Telesat                          |             Success              |        Success         |\n",
      "| 2018-10-08 |  2:22:00   |  F9 B5 B1048.2  | VAFB SLC-4E  |                           SAOCOM 1A                           |        3000       |     SSO     |                           CONAE                           |             Success              |        Success         |\n",
      "| 2018-11-15 |  20:46:00  |  F9 B5 B1047.2  |  KSC LC-39A  |                           Es hail 2                           |        5300       |     GTO     |                         Es hailSat                        |             Success              |        Success         |\n",
      "| 2018-12-03 |  18:34:05  |  F9 B5 B1046.3  | VAFB SLC-4E  |                             SSO-A                             |        4000       |     SSO     |                   Spaceflight Industries                  |             Success              |        Success         |\n",
      "| 2018-12-05 |  18:16:00  |    F9 B5B1050   | CCAFS SLC-40 |                         SpaceX CRS-16                         |        2500       |  LEO (ISS)  |                         NASA (CRS)                        |             Success              |        Failure         |\n",
      "| 2018-12-23 |  13:51:00  |    F9 B5B1054   | CCAFS SLC-40 |                          GPS III-01                           |        4400       |     MEO     |                            USAF                           |             Success              |       No attempt       |\n",
      "| 2019-01-11 |  15:31:00  |  F9 B5 B1049.2  | VAFB SLC-4E  |                         Iridium NEXT-8                        |        9600       |  Polar LEO  |                   Iridium Communications                  |             Success              |        Success         |\n",
      "| 2019-02-22 |  1:45:00   |  F9 B5 B1048.3  | CCAFS SLC-40 |           Nusantara Satu, Beresheet Moon lander, S5           |        4850       |     GTO     |                     PSN, SpaceIL / IAI                    |             Success              |        Success         |\n",
      "| 2019-03-02 |  7:49:00   |   F9 B5B1051.1  |  KSC LC-39A  |               Crew Dragon Demo-1, SpaceX CRS-17               |       12055       |  LEO (ISS)  |                        NASA (CCD)                         |             Success              |        Success         |\n",
      "| 2019-05-04 |  6:48:00   |  F9 B5B1056.1   | CCAFS SLC-40 |                  SpaceX CRS-17, Starlink v0.9                 |        2495       |  LEO (ISS)  |                         NASA (CRS)                        |             Success              |        Success         |\n",
      "| 2019-05-24 |  2:30:00   |  F9 B5 B1049.3  | CCAFS SLC-40 |             Starlink v0.9, RADARSAT Constellation             |       13620       |     LEO     |                           SpaceX                          |             Success              |        Success         |\n",
      "| 2019-06-12 |  14:17:00  |  F9 B5 B1051.2  | VAFB SLC-4E  |             RADARSAT Constellation, SpaceX CRS-18             |        4200       |     SSO     |                Canadian Space Agency (CSA)                |             Success              |        Success         |\n",
      "| 2019-07-25 |  22:01:00  |  F9 B5 B1056.2  | CCAFS SLC-40 |                    SpaceX CRS-18, AMOS-17                     |        2268       |  LEO (ISS)  |                         NASA (CRS)                        |             Success              |        Success         |\n",
      "| 2019-08-06 |  23:23:00  |  F9 B5 B1047.3  | CCAFS SLC-40 |                   AMOS-17, Starlink 1 v1.0                    |        6500       |     GTO     |                          Spacecom                         |             Success              |      No attempt        |\n",
      "| 2019-11-11 |  14:56:00  |  F9 B5 B1048.4  | CCAFS SLC-40 |                Starlink 1 v1.0, SpaceX CRS-19                 |       15600       |     LEO     |                           SpaceX                          |             Success              |        Success         |\n",
      "| 2019-12-05 |  17:29:00  |   F9 B5B1059.1  | CCAFS SLC-40 |              SpaceX CRS-19, JCSat-18 / Kacific 1              |        2617       |  LEO (ISS)  |                   NASA (CRS), Kacific 1                   |             Success              |        Success         |\n",
      "| 2019-12-17 |  0:10:00   |  F9 B5 B1056.3  | CCAFS SLC-40 |             JCSat-18 / Kacific 1, Starlink 2 v1.0             |        6956       |     GTO     |                Sky Perfect JSAT, Kacific 1                |             Success              |        Success         |\n",
      "| 2020-01-07 |  2:33:00   |  F9 B5 B1049.4  | CCAFS SLC-40 |       Starlink 2 v1.0, Crew Dragon in-flight abort test       |       15600       |     LEO     |                           SpaceX                          |             Success              |        Success         |\n",
      "| 2020-01-19 |  15:30:00  |  F9 B5 B1046.4  |  KSC LC-39A  |       Crew Dragon in-flight abort test, Starlink 3 v1.0       |       12050       | Sub-orbital |                         NASA (CTS)                        |             Success              |       No attempt       |\n",
      "| 2020-01-29 |  14:07:00  |  F9 B5 B1051.3  | CCAFS SLC-40 |               Starlink 3 v1.0, Starlink 4 v1.0                |       15600       |     LEO     |                           SpaceX                          |             Success              |        Success         |\n",
      "| 2020-02-17 |  15:05:00  |  F9 B5 B1056.4  | CCAFS SLC-40 |                 Starlink 4 v1.0, SpaceX CRS-20                |       15600       |     LEO     |                           SpaceX                          |             Success              |        Failure         |\n",
      "| 2020-03-07 |  4:50:00   |  F9 B5 B1059.2  | CCAFS SLC-40 |                SpaceX CRS-20, Starlink 5 v1.0                 |        1977       |  LEO (ISS)  |                         NASA (CRS)                        |             Success              |        Success         |\n",
      "| 2020-03-18 |  12:16:00  |  F9 B5 B1048.5  |  KSC LC-39A  |               Starlink 5 v1.0, Starlink 6 v1.0                |       15600       |     LEO     |                           SpaceX                          |             Success              |        Failure         |\n",
      "| 2020-04-22 |  19:30:00  |  F9 B5 B1051.4  |  KSC LC-39A  |              Starlink 6 v1.0, Crew Dragon Demo-2              |       15600       |     LEO     |                           SpaceX                          |             Success              |        Success         |\n",
      "| 2020-05-30 |  19:22:00  |  F9 B5B1058.1   |  KSC LC-39A  |              Crew Dragon Demo-2, Starlink 7 v1.0              |       12530       |  LEO (ISS)  |                        NASA (CCDev)                       |             Success              |        Success         |\n",
      "| 2020-06-04 |  1:25:00   |  F9 B5 B1049.5  | CCAFS SLC-40 |                Starlink 7 v1.0, Starlink 8 v1.0               |       15600       |     LEO     |                    SpaceX, Planet Labs                    |             Success              |        Success         |\n",
      "| 2020-06-13 |  9:21:00   |  F9 B5 B1059.3  | CCAFS SLC-40 |       Starlink 8 v1.0, SkySats-16, -17, -18, GPS III-03       |       15410       |     LEO     |                    SpaceX, Planet Labs                    |             Success              |        Success         |\n",
      "| 2020-06-30 |  20:10:46  |   F9 B5B1060.1  | CCAFS SLC-40 |                     GPS III-03, ANASIS-II                     |        4311       |     MEO     |                      U.S. Space Force                     |             Success              |        Success         |\n",
      "| 2020-07-20 |  21:30:00  |  F9 B5 B1058.2  | CCAFS SLC-40 |                   ANASIS-II, Starlink 9 v1.0                  |        5500       |     GTO     | Republic of Korea Army, Spaceflight Industries (BlackSky) |             Success              |        Success         |\n",
      "| 2020-08-07 |  5:12:00   |  F9 B5 B1051.5  |  KSC LC-39A  |           Starlink 9 v1.0, SXRS-1, Starlink 10 v1.0           |       14932       |     LEO     |   SpaceX, Spaceflight Industries (BlackSky), Planet Labs  |             Success              |        Success         |\n",
      "| 2020-08-18 |  14:31:00  |  F9 B5 B1049.6  | CCAFS SLC-40 |       Starlink 10 v1.0, SkySat-19, -20, -21, SAOCOM 1B        |       15440       |     LEO     |               SpaceX, Planet Labs, PlanetIQ               |             Success              |        Success         |\n",
      "| 2020-08-30 |  23:18:00  |  F9 B5 B1059.4  | CCAFS SLC-40 |                SAOCOM 1B, GNOMES 1, Tyvak-0172                |        3130       |     SSO     |                  CONAE, PlanetIQ, SpaceX                  |             Success              |        Success         |\n",
      "| 2020-09-03 |  12:46:14  |  F9 B5 B1060.2  |  KSC LC-39A  |              Starlink 11 v1.0, Starlink 12 v1.0               |       15600       |     LEO     |                           SpaceX                          |             Success              |        Success         |\n",
      "| 2020-10-06 |  11:29:34  |  F9 B5 B1058.3  |  KSC LC-39A  |              Starlink 12 v1.0, Starlink 13 v1.0               |       15600       |     LEO     |                           SpaceX                          |             Success              |        Success         |\n",
      "| 2020-10-18 |  12:25:57  |  F9 B5 B1051.6  |  KSC LC-39A  |              Starlink 13 v1.0, Starlink 14 v1.0               |       15600       |     LEO     |                           SpaceX                          |             Success              |        Success         |\n",
      "| 2020-10-24 |  15:31:34  |  F9 B5 B1060.3  | CCAFS SLC-40 |                 Starlink 14 v1.0, GPS III-04                  |       15600       |     LEO     |                           SpaceX                          |             Success              |        Success         |\n",
      "| 2020-11-05 |  23:24:23  |   F9 B5B1062.1  | CCAFS SLC-40 |                      GPS III-04 , Crew-1                      |        4311       |     MEO     |                            USSF                           |             Success              |        Success         |\n",
      "| 2020-11-16 |  0:27:00   |  F9 B5B1061.1   |  KSC LC-39A  |              Crew-1, Sentinel-6 Michael Freilich              |       12500       |  LEO (ISS)  |                         NASA (CCP)                        |             Success              |        Success         |\n",
      "| 2020-11-21 |  17:17:08  |   F9 B5B1063.1  | VAFB SLC-4E  |         Sentinel-6 Michael Freilich, Starlink 15 v1.0         |        1192       |     LEO     |                NASA / NOAA / ESA / EUMETSAT               |             Success              |        Success         |\n",
      "| 2020-11-25 |  2:13:00   |  F9 B5 B1049.7  | CCAFS SLC-40 |                Starlink 15 v1.0, SpaceX CRS-21                |       15600       |     LEO     |                           SpaceX                          |             Success              |        Success         |\n",
      "| 2020-12-06 |  16:17:08  |  F9 B5 B1058.4  |  KSC LC-39A  |                         SpaceX CRS-21                         |        2972       |  LEO (ISS)  |                         NASA (CRS)                        |             Success              |        Success         |\n",
      "+------------+------------+-----------------+--------------+---------------------------------------------------------------+-------------------+-------------+-----------------------------------------------------------+----------------------------------+------------------------+\n",
      " * sqlite:///my_data1.db\n",
      "Done.\n"
     ]
    },
    {
     "data": {
      "text/html": [
       "<table>\n",
       "    <thead>\n",
       "        <tr>\n",
       "            <th>Total_Payload_Mass</th>\n",
       "        </tr>\n",
       "    </thead>\n",
       "    <tbody>\n",
       "        <tr>\n",
       "            <td>45596</td>\n",
       "        </tr>\n",
       "    </tbody>\n",
       "</table>"
      ],
      "text/plain": [
       "[(45596,)]"
      ]
     },
     "execution_count": 43,
     "metadata": {},
     "output_type": "execute_result"
    }
   ],
   "source": [
    "result = %sql SELECT * FROM SPACEXTBL;\n",
    "print(result)\n",
    "%sql SELECT SUM(PAYLOAD_MASS__KG_) AS Total_Payload_Mass FROM SPACEXTBL WHERE CUSTOMER = 'NASA (CRS)';"
   ]
  },
  {
   "cell_type": "markdown",
   "id": "baa903e5-57a2-4c9e-9cfa-3c6305aa5100",
   "metadata": {},
   "source": [
    "### Task 4\n",
    "\n",
    "\n",
    "\n",
    "\n",
    "##### Display average payload mass carried by booster version F9 v1.1\n"
   ]
  },
  {
   "cell_type": "code",
   "execution_count": 48,
   "id": "0bc18667-7b6d-47ea-beb1-7cb726bdcb8a",
   "metadata": {},
   "outputs": [
    {
     "name": "stdout",
     "output_type": "stream",
     "text": [
      " * sqlite:///my_data1.db\n",
      "Done.\n"
     ]
    },
    {
     "data": {
      "text/html": [
       "<table>\n",
       "    <thead>\n",
       "        <tr>\n",
       "            <th>Average_Payload_Mass</th>\n",
       "        </tr>\n",
       "    </thead>\n",
       "    <tbody>\n",
       "        <tr>\n",
       "            <td>2928.4</td>\n",
       "        </tr>\n",
       "    </tbody>\n",
       "</table>"
      ],
      "text/plain": [
       "[(2928.4,)]"
      ]
     },
     "execution_count": 48,
     "metadata": {},
     "output_type": "execute_result"
    }
   ],
   "source": [
    "%sql SELECT AVG(PAYLOAD_MASS__KG_) AS Average_Payload_Mass FROM SPACEXTBL WHERE BOOSTER_VERSION = 'F9 v1.1';"
   ]
  },
  {
   "cell_type": "markdown",
   "id": "baaddece-9051-4d41-9e6b-25ccbaed975b",
   "metadata": {},
   "source": [
    "### Task 5\n",
    "\n",
    "##### List the date when the first succesful landing outcome in ground pad was acheived.\n",
    "\n",
    "\n",
    "_Hint:Use min function_ \n"
   ]
  },
  {
   "cell_type": "code",
   "execution_count": 53,
   "id": "6f9fe6f1-35f1-4d0d-9dc5-3876b07e814f",
   "metadata": {},
   "outputs": [
    {
     "name": "stdout",
     "output_type": "stream",
     "text": [
      " * sqlite:///my_data1.db\n",
      "Done.\n"
     ]
    },
    {
     "data": {
      "text/html": [
       "<table>\n",
       "    <thead>\n",
       "        <tr>\n",
       "            <th>First_Successful_Landing_Date</th>\n",
       "        </tr>\n",
       "    </thead>\n",
       "    <tbody>\n",
       "        <tr>\n",
       "            <td>2015-12-22</td>\n",
       "        </tr>\n",
       "    </tbody>\n",
       "</table>"
      ],
      "text/plain": [
       "[('2015-12-22',)]"
      ]
     },
     "execution_count": 53,
     "metadata": {},
     "output_type": "execute_result"
    }
   ],
   "source": [
    "%sql SELECT MIN(DATE) AS First_Successful_Landing_Date FROM SPACEXTBL WHERE LANDING_OUTCOME = 'Success (ground pad)'"
   ]
  },
  {
   "cell_type": "markdown",
   "id": "89adcf79-9102-4acf-9d97-a3453a6b0fb4",
   "metadata": {},
   "source": [
    "### Task 6\n",
    "\n",
    "##### List the names of the boosters which have success in drone ship and have payload mass greater than 4000 but less than 6000\n"
   ]
  },
  {
   "cell_type": "code",
   "execution_count": 55,
   "id": "e40a37fa-c943-4c79-99e0-ace641ec0f6d",
   "metadata": {},
   "outputs": [
    {
     "name": "stdout",
     "output_type": "stream",
     "text": [
      " * sqlite:///my_data1.db\n",
      "Done.\n"
     ]
    },
    {
     "data": {
      "text/html": [
       "<table>\n",
       "    <thead>\n",
       "        <tr>\n",
       "            <th>Booster_Version</th>\n",
       "        </tr>\n",
       "    </thead>\n",
       "    <tbody>\n",
       "        <tr>\n",
       "            <td>F9 FT B1022</td>\n",
       "        </tr>\n",
       "        <tr>\n",
       "            <td>F9 FT B1026</td>\n",
       "        </tr>\n",
       "        <tr>\n",
       "            <td>F9 FT  B1021.2</td>\n",
       "        </tr>\n",
       "        <tr>\n",
       "            <td>F9 FT  B1031.2</td>\n",
       "        </tr>\n",
       "    </tbody>\n",
       "</table>"
      ],
      "text/plain": [
       "[('F9 FT B1022',), ('F9 FT B1026',), ('F9 FT  B1021.2',), ('F9 FT  B1031.2',)]"
      ]
     },
     "execution_count": 55,
     "metadata": {},
     "output_type": "execute_result"
    }
   ],
   "source": [
    "%sql SELECT BOOSTER_VERSION FROM SPACEXTBL WHERE LANDING_OUTCOME = 'Success (drone ship)' AND PAYLOAD_MASS__KG_ > 4000 AND PAYLOAD_MASS__KG_ < 6000;"
   ]
  },
  {
   "cell_type": "markdown",
   "id": "f95a32dd-cb3f-4352-acc0-64a8bdbb71f0",
   "metadata": {},
   "source": [
    "### Task 7\n",
    "\n",
    "\n",
    "\n",
    "\n",
    "##### List the total number of successful and failure mission outcomes\n"
   ]
  },
  {
   "cell_type": "code",
   "execution_count": 65,
   "id": "3f40175e-ef62-44f0-8bf2-5c24464ccd7b",
   "metadata": {},
   "outputs": [
    {
     "name": "stdout",
     "output_type": "stream",
     "text": [
      " * sqlite:///my_data1.db\n",
      "Done.\n"
     ]
    },
    {
     "data": {
      "text/html": [
       "<table>\n",
       "    <thead>\n",
       "        <tr>\n",
       "            <th>Mission_Outcome</th>\n",
       "            <th>Total</th>\n",
       "        </tr>\n",
       "    </thead>\n",
       "    <tbody>\n",
       "        <tr>\n",
       "            <td>Failure (in flight)</td>\n",
       "            <td>1</td>\n",
       "        </tr>\n",
       "        <tr>\n",
       "            <td>Success</td>\n",
       "            <td>98</td>\n",
       "        </tr>\n",
       "        <tr>\n",
       "            <td>Success </td>\n",
       "            <td>1</td>\n",
       "        </tr>\n",
       "        <tr>\n",
       "            <td>Success (payload status unclear)</td>\n",
       "            <td>1</td>\n",
       "        </tr>\n",
       "    </tbody>\n",
       "</table>"
      ],
      "text/plain": [
       "[('Failure (in flight)', 1),\n",
       " ('Success', 98),\n",
       " ('Success ', 1),\n",
       " ('Success (payload status unclear)', 1)]"
      ]
     },
     "execution_count": 65,
     "metadata": {},
     "output_type": "execute_result"
    }
   ],
   "source": [
    "%sql SELECT MISSION_OUTCOME, COUNT(MISSION_OUTCOME) AS Total FROM SPACEXTBL GROUP BY MISSION_OUTCOME;"
   ]
  },
  {
   "cell_type": "markdown",
   "id": "7bf2a442-9569-4ac3-b303-da73d8687947",
   "metadata": {},
   "source": [
    "### Task 8\n",
    "\n",
    "\n",
    "\n",
    "##### List the   names of the booster_versions which have carried the maximum payload mass. Use a subquery\n"
   ]
  },
  {
   "cell_type": "code",
   "execution_count": 66,
   "id": "6f839b12-c426-445a-b7c6-b59e2924ea8e",
   "metadata": {},
   "outputs": [
    {
     "name": "stdout",
     "output_type": "stream",
     "text": [
      " * sqlite:///my_data1.db\n",
      "Done.\n"
     ]
    },
    {
     "data": {
      "text/html": [
       "<table>\n",
       "    <thead>\n",
       "        <tr>\n",
       "            <th>Booster_Version</th>\n",
       "        </tr>\n",
       "    </thead>\n",
       "    <tbody>\n",
       "        <tr>\n",
       "            <td>F9 B5 B1048.4</td>\n",
       "        </tr>\n",
       "        <tr>\n",
       "            <td>F9 B5 B1049.4</td>\n",
       "        </tr>\n",
       "        <tr>\n",
       "            <td>F9 B5 B1051.3</td>\n",
       "        </tr>\n",
       "        <tr>\n",
       "            <td>F9 B5 B1056.4</td>\n",
       "        </tr>\n",
       "        <tr>\n",
       "            <td>F9 B5 B1048.5</td>\n",
       "        </tr>\n",
       "        <tr>\n",
       "            <td>F9 B5 B1051.4</td>\n",
       "        </tr>\n",
       "        <tr>\n",
       "            <td>F9 B5 B1049.5</td>\n",
       "        </tr>\n",
       "        <tr>\n",
       "            <td>F9 B5 B1060.2 </td>\n",
       "        </tr>\n",
       "        <tr>\n",
       "            <td>F9 B5 B1058.3 </td>\n",
       "        </tr>\n",
       "        <tr>\n",
       "            <td>F9 B5 B1051.6</td>\n",
       "        </tr>\n",
       "        <tr>\n",
       "            <td>F9 B5 B1060.3</td>\n",
       "        </tr>\n",
       "        <tr>\n",
       "            <td>F9 B5 B1049.7 </td>\n",
       "        </tr>\n",
       "    </tbody>\n",
       "</table>"
      ],
      "text/plain": [
       "[('F9 B5 B1048.4',),\n",
       " ('F9 B5 B1049.4',),\n",
       " ('F9 B5 B1051.3',),\n",
       " ('F9 B5 B1056.4',),\n",
       " ('F9 B5 B1048.5',),\n",
       " ('F9 B5 B1051.4',),\n",
       " ('F9 B5 B1049.5',),\n",
       " ('F9 B5 B1060.2 ',),\n",
       " ('F9 B5 B1058.3 ',),\n",
       " ('F9 B5 B1051.6',),\n",
       " ('F9 B5 B1060.3',),\n",
       " ('F9 B5 B1049.7 ',)]"
      ]
     },
     "execution_count": 66,
     "metadata": {},
     "output_type": "execute_result"
    }
   ],
   "source": [
    "%sql SELECT BOOSTER_VERSION FROM SPACEXTBL WHERE PAYLOAD_MASS__KG_ = (SELECT MAX(PAYLOAD_MASS__KG_) FROM SPACEXTBL);"
   ]
  },
  {
   "cell_type": "markdown",
   "id": "4045dfc5-2771-44d5-a3fc-2f65ad3e8ccf",
   "metadata": {},
   "source": [
    "### Task 9\n",
    "\n",
    "\n",
    "##### List the records which will display the month names, failure landing_outcomes in drone ship ,booster versions, launch_site for the months in year 2015.\n",
    "\n",
    "**Note: SQLLite does not support monthnames. So you need to use  substr(Date, 6,2) as month to get the months and substr(Date,0,5)='2015' for year.**\n"
   ]
  },
  {
   "cell_type": "code",
   "execution_count": 71,
   "id": "8bac7d3c-2f2b-4c68-9bbf-b62664797845",
   "metadata": {},
   "outputs": [
    {
     "name": "stdout",
     "output_type": "stream",
     "text": [
      " * sqlite:///my_data1.db\n",
      "Done.\n"
     ]
    },
    {
     "data": {
      "text/html": [
       "<table>\n",
       "    <thead>\n",
       "        <tr>\n",
       "            <th>Month</th>\n",
       "            <th>Landing_Outcome</th>\n",
       "            <th>Booster_Version</th>\n",
       "            <th>Launch_Site</th>\n",
       "        </tr>\n",
       "    </thead>\n",
       "    <tbody>\n",
       "        <tr>\n",
       "            <td>01</td>\n",
       "            <td>Failure (drone ship)</td>\n",
       "            <td>F9 v1.1 B1012</td>\n",
       "            <td>CCAFS LC-40</td>\n",
       "        </tr>\n",
       "        <tr>\n",
       "            <td>04</td>\n",
       "            <td>Failure (drone ship)</td>\n",
       "            <td>F9 v1.1 B1015</td>\n",
       "            <td>CCAFS LC-40</td>\n",
       "        </tr>\n",
       "    </tbody>\n",
       "</table>"
      ],
      "text/plain": [
       "[('01', 'Failure (drone ship)', 'F9 v1.1 B1012', 'CCAFS LC-40'),\n",
       " ('04', 'Failure (drone ship)', 'F9 v1.1 B1015', 'CCAFS LC-40')]"
      ]
     },
     "execution_count": 71,
     "metadata": {},
     "output_type": "execute_result"
    }
   ],
   "source": [
    "%sql SELECT SUBSTR(DATE, 6, 2) AS Month, LANDING_OUTCOME, BOOSTER_VERSION, LAUNCH_SITE FROM SPACEXTBL WHERE LANDING_OUTCOME = 'Failure (drone ship)' AND SUBSTR(DATE, 1, 4) = '2015';"
   ]
  },
  {
   "cell_type": "markdown",
   "id": "dbab1a52-d17c-498a-9ed7-6b0a75ba6147",
   "metadata": {},
   "source": [
    "### Task 10\n",
    "\n",
    "\n",
    "\n",
    "\n",
    "##### Rank the count of landing outcomes (such as Failure (drone ship) or Success (ground pad)) between the date 2010-06-04 and 2017-03-20, in descending order.\n"
   ]
  },
  {
   "cell_type": "code",
   "execution_count": 72,
   "id": "cd0051e2-ab9a-4e0e-82f9-0c44b9f84a32",
   "metadata": {},
   "outputs": [
    {
     "name": "stdout",
     "output_type": "stream",
     "text": [
      " * sqlite:///my_data1.db\n",
      "Done.\n"
     ]
    },
    {
     "data": {
      "text/html": [
       "<table>\n",
       "    <thead>\n",
       "        <tr>\n",
       "            <th>Landing_Outcome</th>\n",
       "            <th>Outcome_Count</th>\n",
       "        </tr>\n",
       "    </thead>\n",
       "    <tbody>\n",
       "        <tr>\n",
       "            <td>No attempt</td>\n",
       "            <td>10</td>\n",
       "        </tr>\n",
       "        <tr>\n",
       "            <td>Success (drone ship)</td>\n",
       "            <td>5</td>\n",
       "        </tr>\n",
       "        <tr>\n",
       "            <td>Failure (drone ship)</td>\n",
       "            <td>5</td>\n",
       "        </tr>\n",
       "        <tr>\n",
       "            <td>Success (ground pad)</td>\n",
       "            <td>3</td>\n",
       "        </tr>\n",
       "        <tr>\n",
       "            <td>Controlled (ocean)</td>\n",
       "            <td>3</td>\n",
       "        </tr>\n",
       "        <tr>\n",
       "            <td>Uncontrolled (ocean)</td>\n",
       "            <td>2</td>\n",
       "        </tr>\n",
       "        <tr>\n",
       "            <td>Failure (parachute)</td>\n",
       "            <td>2</td>\n",
       "        </tr>\n",
       "        <tr>\n",
       "            <td>Precluded (drone ship)</td>\n",
       "            <td>1</td>\n",
       "        </tr>\n",
       "    </tbody>\n",
       "</table>"
      ],
      "text/plain": [
       "[('No attempt', 10),\n",
       " ('Success (drone ship)', 5),\n",
       " ('Failure (drone ship)', 5),\n",
       " ('Success (ground pad)', 3),\n",
       " ('Controlled (ocean)', 3),\n",
       " ('Uncontrolled (ocean)', 2),\n",
       " ('Failure (parachute)', 2),\n",
       " ('Precluded (drone ship)', 1)]"
      ]
     },
     "execution_count": 72,
     "metadata": {},
     "output_type": "execute_result"
    }
   ],
   "source": [
    "%sql SELECT LANDING_OUTCOME, COUNT(*) AS Outcome_Count FROM SPACEXTBL WHERE DATE BETWEEN '2010-06-04' AND '2017-03-20' GROUP BY LANDING_OUTCOME ORDER BY Outcome_Count DESC;\n"
   ]
  },
  {
   "cell_type": "markdown",
   "id": "0ba89b2a-1fc9-4556-b46a-3ef803ab5a99",
   "metadata": {},
   "source": [
    "### Reference Links\n",
    "\n",
    "* <a href =\"https://cf-courses-data.s3.us.cloud-object-storage.appdomain.cloud/IBMDeveloperSkillsNetwork-DB0201EN-SkillsNetwork/labs/Labs_Coursera_V5/labs/Lab%20-%20String%20Patterns%20-%20Sorting%20-%20Grouping/instructional-labs.md.html?origin=www.coursera.org\">Hands-on Lab : String Patterns, Sorting and Grouping</a>  \n",
    "\n",
    "*  <a  href=\"https://cf-courses-data.s3.us.cloud-object-storage.appdomain.cloud/IBMDeveloperSkillsNetwork-DB0201EN-SkillsNetwork/labs/Labs_Coursera_V5/labs/Lab%20-%20Built-in%20functions%20/Hands-on_Lab__Built-in_Functions.md.html?origin=www.coursera.org\">Hands-on Lab: Built-in functions</a>\n",
    "\n",
    "*  <a  href=\"https://cf-courses-data.s3.us.cloud-object-storage.appdomain.cloud/IBMDeveloperSkillsNetwork-DB0201EN-SkillsNetwork/labs/Labs_Coursera_V5/labs/Lab%20-%20Sub-queries%20and%20Nested%20SELECTs%20/instructional-labs.md.html?origin=www.coursera.org\">Hands-on Lab : Sub-queries and Nested SELECT Statements</a>\n",
    "\n",
    "*   <a href=\"https://cf-courses-data.s3.us.cloud-object-storage.appdomain.cloud/IBMDeveloperSkillsNetwork-DB0201EN-SkillsNetwork/labs/Module%205/DB0201EN-Week3-1-3-SQLmagic.ipynb\">Hands-on Tutorial: Accessing Databases with SQL magic</a>\n",
    "\n",
    "*  <a href= \"https://cf-courses-data.s3.us.cloud-object-storage.appdomain.cloud/IBMDeveloperSkillsNetwork-DB0201EN-SkillsNetwork/labs/Module%205/DB0201EN-Week3-1-4-Analyzing.ipynb\">Hands-on Lab: Analyzing a real World Data Set</a>\n",
    "\n",
    "\n"
   ]
  },
  {
   "cell_type": "markdown",
   "id": "b02226bd-f659-4d25-83ef-65cb89c218ec",
   "metadata": {},
   "source": [
    "## Author(s)\n",
    "\n",
    "<h4> Lakshmi Holla </h4>\n"
   ]
  },
  {
   "cell_type": "markdown",
   "id": "164f3e36-c5a4-40c6-be02-53c1869a1603",
   "metadata": {},
   "source": [
    "## Other Contributors\n",
    "\n",
    "<h4> Rav Ahuja </h4>\n"
   ]
  },
  {
   "cell_type": "markdown",
   "id": "452fa8f9-00b7-4099-a4d9-c7c62a8320a5",
   "metadata": {},
   "source": [
    "<!--\n",
    "## Change log\n",
    "| Date | Version | Changed by | Change Description |\n",
    "|------|--------|--------|---------|\n",
    "| 2024-07-10 | 1.1 |Anita Verma | Changed Version|\n",
    "| 2021-07-09 | 0.2 |Lakshmi Holla | Changes made in magic sql|\n",
    "| 2021-05-20 | 0.1 |Lakshmi Holla | Created Initial Version |\n",
    "-->\n"
   ]
  },
  {
   "cell_type": "markdown",
   "id": "c448fc58-de44-4f32-b356-d88cc8ed45fd",
   "metadata": {},
   "source": [
    "## <h3 align=\"center\"> © IBM Corporation 2021. All rights reserved. <h3/>\n"
   ]
  }
 ],
 "metadata": {
  "kernelspec": {
   "display_name": "Python 3",
   "language": "python",
   "name": "python3"
  },
  "language_info": {
   "codemirror_mode": {
    "name": "ipython",
    "version": 3
   },
   "file_extension": ".py",
   "mimetype": "text/x-python",
   "name": "python",
   "nbconvert_exporter": "python",
   "pygments_lexer": "ipython3",
   "version": "3.12.5"
  },
  "prev_pub_hash": "da902c2e8070fbe82a1211fe564834ebcb50f7fc45ad4040b3068861f12c70b8"
 },
 "nbformat": 4,
 "nbformat_minor": 4
}
